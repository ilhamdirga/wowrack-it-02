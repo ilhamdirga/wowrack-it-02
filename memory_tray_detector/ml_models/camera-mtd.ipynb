{
 "cells": [
  {
   "cell_type": "code",
   "execution_count": 1,
   "id": "802d57b3",
   "metadata": {},
   "outputs": [],
   "source": [
    "import cv2\n",
    "import os"
   ]
  },
  {
   "cell_type": "code",
   "execution_count": 2,
   "id": "546ec722",
   "metadata": {},
   "outputs": [
    {
     "name": "stdout",
     "output_type": "stream",
     "text": [
      "Photo photo1.jpg saved!\n",
      "Photo photo2.jpg saved!\n",
      "Photo photo3.jpg saved!\n",
      "Photo photo4.jpg saved!\n",
      "Photo photo5.jpg saved!\n",
      "Photo photo6.jpg saved!\n",
      "Photo photo7.jpg saved!\n",
      "Photo photo8.jpg saved!\n",
      "Photo photo9.jpg saved!\n",
      "Photo photo10.jpg saved!\n"
     ]
    }
   ],
   "source": [
    "# Membuat folder jika belum ada\n",
    "save_folder = 'static/images/memory_tray_detector'\n",
    "os.makedirs(save_folder, exist_ok=True)\n",
    "\n",
    "cam = cv2.VideoCapture(0)\n",
    "photo_counter = 1  # Variable to keep track of the photo counter\n",
    "\n",
    "while True:\n",
    "    check, frame = cam.read()\n",
    "\n",
    "    cv2.imshow('video', frame)\n",
    "\n",
    "    key = cv2.waitKey(1)\n",
    "    \n",
    "    # Check if spacebar is pressed\n",
    "    if key == 32:\n",
    "        photo_name = f'photo{photo_counter}.jpg'  # Generate a unique photo name\n",
    "        photo_path = os.path.join(save_folder, photo_name)  # Construct the full path to save the photo\n",
    "        cv2.imwrite(photo_path, frame)  # Save the current frame as a photo\n",
    "        photo_counter += 1  # Increment the photo counter\n",
    "        print(f'Photo {photo_name} saved!')\n",
    "        \n",
    "    # Check if 'Esc' key is pressed\n",
    "    elif key == 27:\n",
    "        break\n",
    "\n",
    "cam.release()\n",
    "cv2.destroyAllWindows()"
   ]
  },
  {
   "cell_type": "code",
   "execution_count": null,
   "id": "3757108d",
   "metadata": {},
   "outputs": [],
   "source": []
  }
 ],
 "metadata": {
  "kernelspec": {
   "display_name": "Python 3 (ipykernel)",
   "language": "python",
   "name": "python3"
  },
  "language_info": {
   "codemirror_mode": {
    "name": "ipython",
    "version": 3
   },
   "file_extension": ".py",
   "mimetype": "text/x-python",
   "name": "python",
   "nbconvert_exporter": "python",
   "pygments_lexer": "ipython3",
   "version": "3.11.3"
  }
 },
 "nbformat": 4,
 "nbformat_minor": 5
}
