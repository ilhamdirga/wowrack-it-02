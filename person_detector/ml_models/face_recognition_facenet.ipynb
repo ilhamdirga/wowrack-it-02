{
 "cells": [
  {
   "cell_type": "code",
   "execution_count": 1,
   "id": "8c3f1a02",
   "metadata": {},
   "outputs": [],
   "source": [
    "import os\n",
    "from os import listdir\n",
    "from PIL import Image as Img\n",
    "from numpy import asarray\n",
    "from numpy import expand_dims\n",
    "from matplotlib import pyplot\n",
    "#from keras.models import load_model\n",
    "import numpy as np\n",
    "import tensorflow as tf\n",
    "from keras_facenet import FaceNet\n",
    "\n",
    "import pickle\n",
    "import cv2"
   ]
  },
  {
   "cell_type": "code",
   "execution_count": 2,
   "id": "93853473",
   "metadata": {},
   "outputs": [],
   "source": [
    "HaarCascade = cv2.CascadeClassifier(cv2.samples.findFile(cv2.data.haarcascades + 'haarcascade_frontalface_default.xml'))\n",
    "MyFaceNet = FaceNet()"
   ]
  },
  {
   "cell_type": "code",
   "execution_count": 3,
   "id": "303fe123",
   "metadata": {},
   "outputs": [
    {
     "name": "stdout",
     "output_type": "stream",
     "text": [
      "1/1 [==============================] - 2s 2s/step\n",
      "Nama Gambar: digra\n",
      "1/1 [==============================] - 0s 61ms/step\n",
      "Nama Gambar: digra\n",
      "Nama Gambar: sample\n"
     ]
    }
   ],
   "source": [
    "folder='fotoProfil/'\n",
    "database = {}\n",
    "\n",
    "for filename in listdir(folder):\n",
    "    if filename.startswith('.'):\n",
    "        continue\n",
    "    path = folder + filename\n",
    "    gbr1 = cv2.imread(folder + filename)\n",
    "    if gbr1 is None:\n",
    "        print(\"Failed to load image: \", folder + filename)\n",
    "    else:\n",
    "        gbr1 = cv2.imread(folder + filename)\n",
    "\n",
    "        wajah = HaarCascade.detectMultiScale(gbr1,1.1,4)\n",
    "\n",
    "        if len(wajah)>0:\n",
    "            x1, y1, width, height = wajah[0]         \n",
    "        else:\n",
    "            x1, y1, width, height = 1, 1, 10, 10\n",
    "\n",
    "        x1, y1 = abs(x1), abs(y1)\n",
    "        x2, y2 = x1 + width, y1 + height\n",
    "\n",
    "        gbr = cv2.cvtColor(gbr1, cv2.COLOR_BGR2RGB)\n",
    "        gbr = Img.fromarray(gbr)                  # konversi dari OpenCV ke PIL\n",
    "        gbr_array = asarray(gbr)\n",
    "\n",
    "        face = gbr_array[y1:y2, x1:x2]                        \n",
    "\n",
    "        face = Img.fromarray(face)                       \n",
    "        face = face.resize((160,160))\n",
    "        face = asarray(face)\n",
    "\n",
    "    #     face = face.astype('float32')\n",
    "    #     mean, std = face.mean(), face.std()\n",
    "    #     face = (face - mean) / std\n",
    "\n",
    "\n",
    "        face = expand_dims(face, axis=0)\n",
    "    #     signature = MyFaceNet.predict(face)\n",
    "        signature = MyFaceNet.embeddings(face)\n",
    "        \n",
    "        database[os.path.splitext(filename)[0]]=signature\n",
    "        for filename in database.keys():\n",
    "            print(\"Nama Gambar:\", filename)\n",
    "        "
   ]
  },
  {
   "cell_type": "code",
   "execution_count": 4,
   "id": "d374d6a5",
   "metadata": {},
   "outputs": [],
   "source": [
    "myfile = open(\"data.pkl\", \"wb\")\n",
    "pickle.dump(database, myfile)\n",
    "myfile.close()"
   ]
  },
  {
   "cell_type": "code",
   "execution_count": 5,
   "id": "29585eca",
   "metadata": {},
   "outputs": [
    {
     "name": "stdout",
     "output_type": "stream",
     "text": [
      "Nama Gambar: digra\n",
      "Nama Gambar: sample\n"
     ]
    }
   ],
   "source": [
    "for filename in database.keys():\n",
    "    print(\"Nama Gambar:\", filename)"
   ]
  }
 ],
 "metadata": {
  "kernelspec": {
   "display_name": "Python 3 (ipykernel)",
   "language": "python",
   "name": "python3"
  },
  "language_info": {
   "codemirror_mode": {
    "name": "ipython",
    "version": 3
   },
   "file_extension": ".py",
   "mimetype": "text/x-python",
   "name": "python",
   "nbconvert_exporter": "python",
   "pygments_lexer": "ipython3",
   "version": "3.11.3"
  }
 },
 "nbformat": 4,
 "nbformat_minor": 5
}
